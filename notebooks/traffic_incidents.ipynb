{
 "cells": [
  {
   "cell_type": "code",
   "execution_count": 1,
   "metadata": {
    "id": "Ds9wTJO1nuA0"
   },
   "outputs": [],
   "source": [
    "import pandas as pd\n",
    "import pickle\n",
    "import seaborn as sns\n",
    "from sklearn import metrics\n",
    "from sklearn.ensemble import RandomForestClassifier\n",
    "from sklearn.metrics import classification_report\n",
    "from sklearn.model_selection import train_test_split"
   ]
  },
  {
   "cell_type": "code",
   "execution_count": 2,
   "metadata": {
    "colab": {
     "base_uri": "https://localhost:8080/"
    },
    "id": "61qskvscoEum",
    "outputId": "c6fa4dec-fe15-4b58-aa62-ae2b8858dc37"
   },
   "outputs": [
    {
     "name": "stderr",
     "output_type": "stream",
     "text": [
      "/usr/local/lib/python3.7/dist-packages/IPython/core/interactiveshell.py:2718: DtypeWarning: Columns (0,7) have mixed types.Specify dtype option on import or set low_memory=False.\n",
      "  interactivity=interactivity, compiler=compiler, result=result)\n"
     ]
    }
   ],
   "source": [
    "dataset = pd.read_csv('https://s3-us-west-2.amazonaws.com/pcadsassessment/parking_citations.corrupted.csv')"
   ]
  },
  {
   "cell_type": "code",
   "execution_count": 3,
   "metadata": {
    "colab": {
     "base_uri": "https://localhost:8080/",
     "height": 343
    },
    "id": "9JR-o4eboW6N",
    "outputId": "bb8931a0-6712-4376-a5af-edc56903bd3c"
   },
   "outputs": [
    {
     "data": {
      "text/html": [
       "<div>\n",
       "<style scoped>\n",
       "    .dataframe tbody tr th:only-of-type {\n",
       "        vertical-align: middle;\n",
       "    }\n",
       "\n",
       "    .dataframe tbody tr th {\n",
       "        vertical-align: top;\n",
       "    }\n",
       "\n",
       "    .dataframe thead th {\n",
       "        text-align: right;\n",
       "    }\n",
       "</style>\n",
       "<table border=\"1\" class=\"dataframe\">\n",
       "  <thead>\n",
       "    <tr style=\"text-align: right;\">\n",
       "      <th></th>\n",
       "      <th>Ticket number</th>\n",
       "      <th>Issue Date</th>\n",
       "      <th>Issue time</th>\n",
       "      <th>Meter Id</th>\n",
       "      <th>Marked Time</th>\n",
       "      <th>RP State Plate</th>\n",
       "      <th>Plate Expiry Date</th>\n",
       "      <th>VIN</th>\n",
       "      <th>Make</th>\n",
       "      <th>Body Style</th>\n",
       "      <th>Color</th>\n",
       "      <th>Location</th>\n",
       "      <th>Route</th>\n",
       "      <th>Agency</th>\n",
       "      <th>Violation code</th>\n",
       "      <th>Violation Description</th>\n",
       "      <th>Fine amount</th>\n",
       "      <th>Latitude</th>\n",
       "      <th>Longitude</th>\n",
       "    </tr>\n",
       "  </thead>\n",
       "  <tbody>\n",
       "    <tr>\n",
       "      <th>0</th>\n",
       "      <td>1103341116</td>\n",
       "      <td>2015-12-21T00:00:00</td>\n",
       "      <td>1251.0</td>\n",
       "      <td>NaN</td>\n",
       "      <td>NaN</td>\n",
       "      <td>CA</td>\n",
       "      <td>200304.0</td>\n",
       "      <td>NaN</td>\n",
       "      <td>NaN</td>\n",
       "      <td>PA</td>\n",
       "      <td>GY</td>\n",
       "      <td>13147 WELBY WAY</td>\n",
       "      <td>01521</td>\n",
       "      <td>1.0</td>\n",
       "      <td>4000A1</td>\n",
       "      <td>NO EVIDENCE OF REG</td>\n",
       "      <td>50.0</td>\n",
       "      <td>99999.0</td>\n",
       "      <td>99999.0</td>\n",
       "    </tr>\n",
       "    <tr>\n",
       "      <th>1</th>\n",
       "      <td>1103700150</td>\n",
       "      <td>2015-12-21T00:00:00</td>\n",
       "      <td>1435.0</td>\n",
       "      <td>NaN</td>\n",
       "      <td>NaN</td>\n",
       "      <td>CA</td>\n",
       "      <td>201512.0</td>\n",
       "      <td>NaN</td>\n",
       "      <td>NaN</td>\n",
       "      <td>VN</td>\n",
       "      <td>WH</td>\n",
       "      <td>525 S MAIN ST</td>\n",
       "      <td>1C51</td>\n",
       "      <td>1.0</td>\n",
       "      <td>4000A1</td>\n",
       "      <td>NO EVIDENCE OF REG</td>\n",
       "      <td>50.0</td>\n",
       "      <td>99999.0</td>\n",
       "      <td>99999.0</td>\n",
       "    </tr>\n",
       "    <tr>\n",
       "      <th>2</th>\n",
       "      <td>1104803000</td>\n",
       "      <td>2015-12-21T00:00:00</td>\n",
       "      <td>2055.0</td>\n",
       "      <td>NaN</td>\n",
       "      <td>NaN</td>\n",
       "      <td>CA</td>\n",
       "      <td>201503.0</td>\n",
       "      <td>NaN</td>\n",
       "      <td>NaN</td>\n",
       "      <td>PA</td>\n",
       "      <td>BK</td>\n",
       "      <td>200 WORLD WAY</td>\n",
       "      <td>2R2</td>\n",
       "      <td>2.0</td>\n",
       "      <td>8939</td>\n",
       "      <td>WHITE CURB</td>\n",
       "      <td>58.0</td>\n",
       "      <td>6439997.9</td>\n",
       "      <td>1802686.4</td>\n",
       "    </tr>\n",
       "    <tr>\n",
       "      <th>3</th>\n",
       "      <td>1104820732</td>\n",
       "      <td>2015-12-26T00:00:00</td>\n",
       "      <td>1515.0</td>\n",
       "      <td>NaN</td>\n",
       "      <td>NaN</td>\n",
       "      <td>CA</td>\n",
       "      <td>NaN</td>\n",
       "      <td>NaN</td>\n",
       "      <td>NaN</td>\n",
       "      <td>PA</td>\n",
       "      <td>WH</td>\n",
       "      <td>100 WORLD WAY</td>\n",
       "      <td>2F11</td>\n",
       "      <td>2.0</td>\n",
       "      <td>000</td>\n",
       "      <td>17104h</td>\n",
       "      <td>NaN</td>\n",
       "      <td>6440041.1</td>\n",
       "      <td>1802686.2</td>\n",
       "    </tr>\n",
       "    <tr>\n",
       "      <th>4</th>\n",
       "      <td>1105461453</td>\n",
       "      <td>2015-09-15T00:00:00</td>\n",
       "      <td>115.0</td>\n",
       "      <td>NaN</td>\n",
       "      <td>NaN</td>\n",
       "      <td>CA</td>\n",
       "      <td>200316.0</td>\n",
       "      <td>NaN</td>\n",
       "      <td>CHEV</td>\n",
       "      <td>PA</td>\n",
       "      <td>BK</td>\n",
       "      <td>GEORGIA ST/OLYMPIC</td>\n",
       "      <td>1FB70</td>\n",
       "      <td>1.0</td>\n",
       "      <td>8069A</td>\n",
       "      <td>NO STOPPING/STANDING</td>\n",
       "      <td>93.0</td>\n",
       "      <td>99999.0</td>\n",
       "      <td>99999.0</td>\n",
       "    </tr>\n",
       "  </tbody>\n",
       "</table>\n",
       "</div>"
      ],
      "text/plain": [
       "  Ticket number           Issue Date  ...   Latitude  Longitude\n",
       "0    1103341116  2015-12-21T00:00:00  ...    99999.0    99999.0\n",
       "1    1103700150  2015-12-21T00:00:00  ...    99999.0    99999.0\n",
       "2    1104803000  2015-12-21T00:00:00  ...  6439997.9  1802686.4\n",
       "3    1104820732  2015-12-26T00:00:00  ...  6440041.1  1802686.2\n",
       "4    1105461453  2015-09-15T00:00:00  ...    99999.0    99999.0\n",
       "\n",
       "[5 rows x 19 columns]"
      ]
     },
     "execution_count": 3,
     "metadata": {
      "tags": []
     },
     "output_type": "execute_result"
    }
   ],
   "source": [
    "dataset.head()"
   ]
  },
  {
   "cell_type": "code",
   "execution_count": 4,
   "metadata": {
    "id": "1traHpIooLM9"
   },
   "outputs": [],
   "source": [
    "# Drop rows missing our output variable\n",
    "df = dataset[dataset['Make'].notna()]"
   ]
  },
  {
   "cell_type": "code",
   "execution_count": 5,
   "metadata": {
    "colab": {
     "base_uri": "https://localhost:8080/",
     "height": 343
    },
    "id": "Ivu9HmacpI4e",
    "outputId": "19372e73-a808-4bec-d61a-26064bab3102"
   },
   "outputs": [
    {
     "data": {
      "text/html": [
       "<div>\n",
       "<style scoped>\n",
       "    .dataframe tbody tr th:only-of-type {\n",
       "        vertical-align: middle;\n",
       "    }\n",
       "\n",
       "    .dataframe tbody tr th {\n",
       "        vertical-align: top;\n",
       "    }\n",
       "\n",
       "    .dataframe thead th {\n",
       "        text-align: right;\n",
       "    }\n",
       "</style>\n",
       "<table border=\"1\" class=\"dataframe\">\n",
       "  <thead>\n",
       "    <tr style=\"text-align: right;\">\n",
       "      <th></th>\n",
       "      <th>Ticket number</th>\n",
       "      <th>Issue Date</th>\n",
       "      <th>Issue time</th>\n",
       "      <th>Meter Id</th>\n",
       "      <th>Marked Time</th>\n",
       "      <th>RP State Plate</th>\n",
       "      <th>Plate Expiry Date</th>\n",
       "      <th>VIN</th>\n",
       "      <th>Make</th>\n",
       "      <th>Body Style</th>\n",
       "      <th>Color</th>\n",
       "      <th>Location</th>\n",
       "      <th>Route</th>\n",
       "      <th>Agency</th>\n",
       "      <th>Violation code</th>\n",
       "      <th>Violation Description</th>\n",
       "      <th>Fine amount</th>\n",
       "      <th>Latitude</th>\n",
       "      <th>Longitude</th>\n",
       "    </tr>\n",
       "  </thead>\n",
       "  <tbody>\n",
       "    <tr>\n",
       "      <th>4</th>\n",
       "      <td>1105461453</td>\n",
       "      <td>2015-09-15T00:00:00</td>\n",
       "      <td>115.0</td>\n",
       "      <td>NaN</td>\n",
       "      <td>NaN</td>\n",
       "      <td>CA</td>\n",
       "      <td>200316.0</td>\n",
       "      <td>NaN</td>\n",
       "      <td>CHEV</td>\n",
       "      <td>PA</td>\n",
       "      <td>BK</td>\n",
       "      <td>GEORGIA ST/OLYMPIC</td>\n",
       "      <td>1FB70</td>\n",
       "      <td>1.0</td>\n",
       "      <td>8069A</td>\n",
       "      <td>NO STOPPING/STANDING</td>\n",
       "      <td>93.0</td>\n",
       "      <td>99999.0</td>\n",
       "      <td>99999.0</td>\n",
       "    </tr>\n",
       "    <tr>\n",
       "      <th>6</th>\n",
       "      <td>1106500452</td>\n",
       "      <td>2015-12-17T00:00:00</td>\n",
       "      <td>1710.0</td>\n",
       "      <td>NaN</td>\n",
       "      <td>NaN</td>\n",
       "      <td>CA</td>\n",
       "      <td>201605.0</td>\n",
       "      <td>NaN</td>\n",
       "      <td>MAZD</td>\n",
       "      <td>PA</td>\n",
       "      <td>BL</td>\n",
       "      <td>SUNSET/ALVARADO</td>\n",
       "      <td>00217</td>\n",
       "      <td>1.0</td>\n",
       "      <td>8070</td>\n",
       "      <td>PARK IN GRID LOCK ZN</td>\n",
       "      <td>163.0</td>\n",
       "      <td>99999.0</td>\n",
       "      <td>99999.0</td>\n",
       "    </tr>\n",
       "    <tr>\n",
       "      <th>10</th>\n",
       "      <td>1106506424</td>\n",
       "      <td>2015-12-22T00:00:00</td>\n",
       "      <td>1100.0</td>\n",
       "      <td>NaN</td>\n",
       "      <td>NaN</td>\n",
       "      <td>CA</td>\n",
       "      <td>201511.0</td>\n",
       "      <td>NaN</td>\n",
       "      <td>FORD</td>\n",
       "      <td>TR</td>\n",
       "      <td>WH</td>\n",
       "      <td>1159 HUNTLEY DR</td>\n",
       "      <td>2A75</td>\n",
       "      <td>1.0</td>\n",
       "      <td>8069AA</td>\n",
       "      <td>NO STOP/STAND AM</td>\n",
       "      <td>93.0</td>\n",
       "      <td>99999.0</td>\n",
       "      <td>99999.0</td>\n",
       "    </tr>\n",
       "    <tr>\n",
       "      <th>11</th>\n",
       "      <td>1106506435</td>\n",
       "      <td>2015-12-22T00:00:00</td>\n",
       "      <td>1105.0</td>\n",
       "      <td>NaN</td>\n",
       "      <td>NaN</td>\n",
       "      <td>CA</td>\n",
       "      <td>201701.0</td>\n",
       "      <td>NaN</td>\n",
       "      <td>CHRY</td>\n",
       "      <td>PA</td>\n",
       "      <td>GO</td>\n",
       "      <td>1159 HUNTLEY DR</td>\n",
       "      <td>2A75</td>\n",
       "      <td>1.0</td>\n",
       "      <td>8069AA</td>\n",
       "      <td>NO STOP/STAND AM</td>\n",
       "      <td>93.0</td>\n",
       "      <td>99999.0</td>\n",
       "      <td>99999.0</td>\n",
       "    </tr>\n",
       "    <tr>\n",
       "      <th>14</th>\n",
       "      <td>1107179581</td>\n",
       "      <td>2015-12-27T00:00:00</td>\n",
       "      <td>1055.0</td>\n",
       "      <td>NaN</td>\n",
       "      <td>NaN</td>\n",
       "      <td>CA</td>\n",
       "      <td>201605.0</td>\n",
       "      <td>NaN</td>\n",
       "      <td>TOYO</td>\n",
       "      <td>PA</td>\n",
       "      <td>BK</td>\n",
       "      <td>3100 N HOLLYRIDGE DR</td>\n",
       "      <td>NaN</td>\n",
       "      <td>54.0</td>\n",
       "      <td>8058L</td>\n",
       "      <td>PREF PARKING</td>\n",
       "      <td>68.0</td>\n",
       "      <td>99999.0</td>\n",
       "      <td>99999.0</td>\n",
       "    </tr>\n",
       "  </tbody>\n",
       "</table>\n",
       "</div>"
      ],
      "text/plain": [
       "   Ticket number           Issue Date  ...  Latitude Longitude\n",
       "4     1105461453  2015-09-15T00:00:00  ...   99999.0   99999.0\n",
       "6     1106500452  2015-12-17T00:00:00  ...   99999.0   99999.0\n",
       "10    1106506424  2015-12-22T00:00:00  ...   99999.0   99999.0\n",
       "11    1106506435  2015-12-22T00:00:00  ...   99999.0   99999.0\n",
       "14    1107179581  2015-12-27T00:00:00  ...   99999.0   99999.0\n",
       "\n",
       "[5 rows x 19 columns]"
      ]
     },
     "execution_count": 5,
     "metadata": {
      "tags": []
     },
     "output_type": "execute_result"
    }
   ],
   "source": [
    "df.head()"
   ]
  },
  {
   "cell_type": "code",
   "execution_count": 6,
   "metadata": {
    "colab": {
     "base_uri": "https://localhost:8080/",
     "height": 297
    },
    "id": "xgXYYDXxpOBk",
    "outputId": "acd5299b-2cd6-45a6-d6ba-28a74bcaa904"
   },
   "outputs": [
    {
     "data": {
      "text/html": [
       "<div>\n",
       "<style scoped>\n",
       "    .dataframe tbody tr th:only-of-type {\n",
       "        vertical-align: middle;\n",
       "    }\n",
       "\n",
       "    .dataframe tbody tr th {\n",
       "        vertical-align: top;\n",
       "    }\n",
       "\n",
       "    .dataframe thead th {\n",
       "        text-align: right;\n",
       "    }\n",
       "</style>\n",
       "<table border=\"1\" class=\"dataframe\">\n",
       "  <thead>\n",
       "    <tr style=\"text-align: right;\">\n",
       "      <th></th>\n",
       "      <th>Issue time</th>\n",
       "      <th>Marked Time</th>\n",
       "      <th>Plate Expiry Date</th>\n",
       "      <th>Agency</th>\n",
       "      <th>Fine amount</th>\n",
       "      <th>Latitude</th>\n",
       "      <th>Longitude</th>\n",
       "    </tr>\n",
       "  </thead>\n",
       "  <tbody>\n",
       "    <tr>\n",
       "      <th>count</th>\n",
       "      <td>4.356549e+06</td>\n",
       "      <td>144922.000000</td>\n",
       "      <td>3.960997e+06</td>\n",
       "      <td>4.357538e+06</td>\n",
       "      <td>4.354349e+06</td>\n",
       "      <td>4.357543e+06</td>\n",
       "      <td>4.357543e+06</td>\n",
       "    </tr>\n",
       "    <tr>\n",
       "      <th>mean</th>\n",
       "      <td>1.203880e+03</td>\n",
       "      <td>1055.147196</td>\n",
       "      <td>1.867826e+05</td>\n",
       "      <td>5.203218e+01</td>\n",
       "      <td>7.010876e+01</td>\n",
       "      <td>5.503485e+06</td>\n",
       "      <td>1.587400e+06</td>\n",
       "    </tr>\n",
       "    <tr>\n",
       "      <th>std</th>\n",
       "      <td>4.722652e+02</td>\n",
       "      <td>227.166905</td>\n",
       "      <td>5.276190e+04</td>\n",
       "      <td>9.238550e+00</td>\n",
       "      <td>3.205594e+01</td>\n",
       "      <td>3.025596e+06</td>\n",
       "      <td>2.098413e+06</td>\n",
       "    </tr>\n",
       "    <tr>\n",
       "      <th>min</th>\n",
       "      <td>0.000000e+00</td>\n",
       "      <td>1.000000</td>\n",
       "      <td>1.000000e+00</td>\n",
       "      <td>1.000000e+00</td>\n",
       "      <td>1.000000e+01</td>\n",
       "      <td>9.999900e+04</td>\n",
       "      <td>9.999900e+04</td>\n",
       "    </tr>\n",
       "    <tr>\n",
       "      <th>25%</th>\n",
       "      <td>9.120000e+02</td>\n",
       "      <td>910.000000</td>\n",
       "      <td>2.016010e+05</td>\n",
       "      <td>5.100000e+01</td>\n",
       "      <td>6.300000e+01</td>\n",
       "      <td>6.421524e+06</td>\n",
       "      <td>1.821596e+06</td>\n",
       "    </tr>\n",
       "    <tr>\n",
       "      <th>50%</th>\n",
       "      <td>1.155000e+03</td>\n",
       "      <td>1036.000000</td>\n",
       "      <td>2.017020e+05</td>\n",
       "      <td>5.400000e+01</td>\n",
       "      <td>6.800000e+01</td>\n",
       "      <td>6.451586e+06</td>\n",
       "      <td>1.841993e+06</td>\n",
       "    </tr>\n",
       "    <tr>\n",
       "      <th>75%</th>\n",
       "      <td>1.511000e+03</td>\n",
       "      <td>1200.000000</td>\n",
       "      <td>2.018030e+05</td>\n",
       "      <td>5.500000e+01</td>\n",
       "      <td>7.300000e+01</td>\n",
       "      <td>6.475013e+06</td>\n",
       "      <td>1.858208e+06</td>\n",
       "    </tr>\n",
       "    <tr>\n",
       "      <th>max</th>\n",
       "      <td>2.359000e+03</td>\n",
       "      <td>2400.000000</td>\n",
       "      <td>5.015120e+05</td>\n",
       "      <td>9.700000e+01</td>\n",
       "      <td>5.050000e+02</td>\n",
       "      <td>4.042322e+09</td>\n",
       "      <td>4.042322e+09</td>\n",
       "    </tr>\n",
       "  </tbody>\n",
       "</table>\n",
       "</div>"
      ],
      "text/plain": [
       "         Issue time    Marked Time  ...      Latitude     Longitude\n",
       "count  4.356549e+06  144922.000000  ...  4.357543e+06  4.357543e+06\n",
       "mean   1.203880e+03    1055.147196  ...  5.503485e+06  1.587400e+06\n",
       "std    4.722652e+02     227.166905  ...  3.025596e+06  2.098413e+06\n",
       "min    0.000000e+00       1.000000  ...  9.999900e+04  9.999900e+04\n",
       "25%    9.120000e+02     910.000000  ...  6.421524e+06  1.821596e+06\n",
       "50%    1.155000e+03    1036.000000  ...  6.451586e+06  1.841993e+06\n",
       "75%    1.511000e+03    1200.000000  ...  6.475013e+06  1.858208e+06\n",
       "max    2.359000e+03    2400.000000  ...  4.042322e+09  4.042322e+09\n",
       "\n",
       "[8 rows x 7 columns]"
      ]
     },
     "execution_count": 6,
     "metadata": {
      "tags": []
     },
     "output_type": "execute_result"
    }
   ],
   "source": [
    "df.describe()"
   ]
  },
  {
   "cell_type": "code",
   "execution_count": 7,
   "metadata": {
    "colab": {
     "base_uri": "https://localhost:8080/"
    },
    "id": "ZGdrA8tjq39u",
    "outputId": "19d051ab-7410-405f-de53-af5914609fe1"
   },
   "outputs": [
    {
     "data": {
      "text/plain": [
       "Ticket number            4357544\n",
       "Issue Date               4357544\n",
       "Issue time               4356549\n",
       "Meter Id                 1133849\n",
       "Marked Time               144922\n",
       "RP State Plate           4357153\n",
       "Plate Expiry Date        3960997\n",
       "VIN                         8142\n",
       "Make                     4357544\n",
       "Body Style               4353554\n",
       "Color                    4356030\n",
       "Location                 4357395\n",
       "Route                    4325867\n",
       "Agency                   4357538\n",
       "Violation code           4357544\n",
       "Violation Description    4357113\n",
       "Fine amount              4354349\n",
       "Latitude                 4357543\n",
       "Longitude                4357543\n",
       "dtype: int64"
      ]
     },
     "execution_count": 7,
     "metadata": {
      "tags": []
     },
     "output_type": "execute_result"
    }
   ],
   "source": [
    "df.count()"
   ]
  },
  {
   "cell_type": "code",
   "execution_count": 21,
   "metadata": {
    "colab": {
     "base_uri": "https://localhost:8080/",
     "height": 333
    },
    "id": "gRi2OXO7q5Ha",
    "outputId": "cc1b167a-fe04-416b-eaf1-a461056c804a"
   },
   "outputs": [
    {
     "ename": "ValueError",
     "evalue": "ignored",
     "output_type": "error",
     "traceback": [
      "\u001b[0;31m---------------------------------------------------------------------------\u001b[0m",
      "\u001b[0;31mValueError\u001b[0m                                Traceback (most recent call last)",
      "\u001b[0;32m<ipython-input-21-26a703de140f>\u001b[0m in \u001b[0;36m<module>\u001b[0;34m()\u001b[0m\n\u001b[1;32m      1\u001b[0m \u001b[0;31m# Let's cut down the rows so we can make this usable in our slow environment\u001b[0m\u001b[0;34m\u001b[0m\u001b[0;34m\u001b[0m\u001b[0;34m\u001b[0m\u001b[0m\n\u001b[0;32m----> 2\u001b[0;31m \u001b[0mdf\u001b[0m \u001b[0;34m=\u001b[0m \u001b[0mdf\u001b[0m\u001b[0;34m.\u001b[0m\u001b[0msample\u001b[0m\u001b[0;34m(\u001b[0m\u001b[0;36m200000\u001b[0m\u001b[0;34m,\u001b[0m \u001b[0mrandom_state\u001b[0m\u001b[0;34m=\u001b[0m\u001b[0;36m42\u001b[0m\u001b[0;34m)\u001b[0m\u001b[0;34m\u001b[0m\u001b[0;34m\u001b[0m\u001b[0m\n\u001b[0m",
      "\u001b[0;32m/usr/local/lib/python3.7/dist-packages/pandas/core/generic.py\u001b[0m in \u001b[0;36msample\u001b[0;34m(self, n, frac, replace, weights, random_state, axis)\u001b[0m\n\u001b[1;32m   4993\u001b[0m             )\n\u001b[1;32m   4994\u001b[0m \u001b[0;34m\u001b[0m\u001b[0m\n\u001b[0;32m-> 4995\u001b[0;31m         \u001b[0mlocs\u001b[0m \u001b[0;34m=\u001b[0m \u001b[0mrs\u001b[0m\u001b[0;34m.\u001b[0m\u001b[0mchoice\u001b[0m\u001b[0;34m(\u001b[0m\u001b[0maxis_length\u001b[0m\u001b[0;34m,\u001b[0m \u001b[0msize\u001b[0m\u001b[0;34m=\u001b[0m\u001b[0mn\u001b[0m\u001b[0;34m,\u001b[0m \u001b[0mreplace\u001b[0m\u001b[0;34m=\u001b[0m\u001b[0mreplace\u001b[0m\u001b[0;34m,\u001b[0m \u001b[0mp\u001b[0m\u001b[0;34m=\u001b[0m\u001b[0mweights\u001b[0m\u001b[0;34m)\u001b[0m\u001b[0;34m\u001b[0m\u001b[0;34m\u001b[0m\u001b[0m\n\u001b[0m\u001b[1;32m   4996\u001b[0m         \u001b[0;32mreturn\u001b[0m \u001b[0mself\u001b[0m\u001b[0;34m.\u001b[0m\u001b[0mtake\u001b[0m\u001b[0;34m(\u001b[0m\u001b[0mlocs\u001b[0m\u001b[0;34m,\u001b[0m \u001b[0maxis\u001b[0m\u001b[0;34m=\u001b[0m\u001b[0maxis\u001b[0m\u001b[0;34m)\u001b[0m\u001b[0;34m\u001b[0m\u001b[0;34m\u001b[0m\u001b[0m\n\u001b[1;32m   4997\u001b[0m \u001b[0;34m\u001b[0m\u001b[0m\n",
      "\u001b[0;32mmtrand.pyx\u001b[0m in \u001b[0;36mnumpy.random.mtrand.RandomState.choice\u001b[0;34m()\u001b[0m\n",
      "\u001b[0;31mValueError\u001b[0m: Cannot take a larger sample than population when 'replace=False'"
     ]
    }
   ],
   "source": [
    "# Let's cut down the rows so we can make this usable in our slow environment\n",
    "df = df.sample(100000, random_state=42)"
   ]
  },
  {
   "cell_type": "code",
   "execution_count": 9,
   "metadata": {
    "colab": {
     "base_uri": "https://localhost:8080/"
    },
    "id": "LNBeS5vZrJzf",
    "outputId": "982e3470-2d66-47be-f343-157457151a20"
   },
   "outputs": [
    {
     "data": {
      "text/plain": [
       "Ticket number            100000\n",
       "Issue Date               100000\n",
       "Issue time                99976\n",
       "Meter Id                  25705\n",
       "Marked Time                3287\n",
       "RP State Plate            99993\n",
       "Plate Expiry Date         91003\n",
       "VIN                         184\n",
       "Make                     100000\n",
       "Body Style                99916\n",
       "Color                     99968\n",
       "Location                  99999\n",
       "Route                     99263\n",
       "Agency                   100000\n",
       "Violation code           100000\n",
       "Violation Description     99988\n",
       "Fine amount               99925\n",
       "Latitude                 100000\n",
       "Longitude                100000\n",
       "dtype: int64"
      ]
     },
     "execution_count": 9,
     "metadata": {
      "tags": []
     },
     "output_type": "execute_result"
    }
   ],
   "source": [
    "df.count()"
   ]
  },
  {
   "cell_type": "code",
   "execution_count": 10,
   "metadata": {
    "colab": {
     "base_uri": "https://localhost:8080/",
     "height": 376
    },
    "id": "s66hjNdyp13k",
    "outputId": "9b548ebd-1073-48c0-ca26-fd06fc354a18"
   },
   "outputs": [
    {
     "data": {
      "text/plain": [
       "<matplotlib.axes._subplots.AxesSubplot at 0x7fe3ed756990>"
      ]
     },
     "execution_count": 10,
     "metadata": {
      "tags": []
     },
     "output_type": "execute_result"
    },
    {
     "data": {
      "image/png": "[encoded data removed]",
      "text/plain": [
       "<Figure size 432x288 with 1 Axes>"
      ]
     },
     "metadata": {
      "needs_background": "light",
      "tags": []
     },
     "output_type": "display_data"
    }
   ],
   "source": [
    "# Let's look at our NULL values\n",
    "# Meter Id, Marked Time, VIN will not be useful (too many NULL values).\n",
    "sns.heatmap(df.isnull(), yticklabels=False, cbar=False, cmap='viridis')"
   ]
  },
  {
   "cell_type": "code",
   "execution_count": 11,
   "metadata": {
    "id": "BKIT9S89pnYH"
   },
   "outputs": [],
   "source": [
    "# Drop rows with too much NA data\n",
    "df.drop(['Meter Id', 'Marked Time', 'VIN'], axis=1, inplace=True)"
   ]
  },
  {
   "cell_type": "code",
   "execution_count": 12,
   "metadata": {
    "colab": {
     "base_uri": "https://localhost:8080/",
     "height": 374
    },
    "id": "L5R7puWEpPbc",
    "outputId": "2a7c735b-41e3-4fdc-ae07-7bfe383746d9"
   },
   "outputs": [
    {
     "data": {
      "text/html": [
       "<div>\n",
       "<style scoped>\n",
       "    .dataframe tbody tr th:only-of-type {\n",
       "        vertical-align: middle;\n",
       "    }\n",
       "\n",
       "    .dataframe tbody tr th {\n",
       "        vertical-align: top;\n",
       "    }\n",
       "\n",
       "    .dataframe thead th {\n",
       "        text-align: right;\n",
       "    }\n",
       "</style>\n",
       "<table border=\"1\" class=\"dataframe\">\n",
       "  <thead>\n",
       "    <tr style=\"text-align: right;\">\n",
       "      <th></th>\n",
       "      <th>Ticket number</th>\n",
       "      <th>Issue Date</th>\n",
       "      <th>Issue time</th>\n",
       "      <th>RP State Plate</th>\n",
       "      <th>Plate Expiry Date</th>\n",
       "      <th>Make</th>\n",
       "      <th>Body Style</th>\n",
       "      <th>Color</th>\n",
       "      <th>Location</th>\n",
       "      <th>Route</th>\n",
       "      <th>Agency</th>\n",
       "      <th>Violation code</th>\n",
       "      <th>Violation Description</th>\n",
       "      <th>Fine amount</th>\n",
       "      <th>Latitude</th>\n",
       "      <th>Longitude</th>\n",
       "    </tr>\n",
       "  </thead>\n",
       "  <tbody>\n",
       "    <tr>\n",
       "      <th>6904451</th>\n",
       "      <td>4325500476</td>\n",
       "      <td>2018-02-03T00:00:00</td>\n",
       "      <td>1653.0</td>\n",
       "      <td>CA</td>\n",
       "      <td>201711.0</td>\n",
       "      <td>BMW</td>\n",
       "      <td>PA</td>\n",
       "      <td>GY</td>\n",
       "      <td>800 LA CIENEGA BL N</td>\n",
       "      <td>00490</td>\n",
       "      <td>54.0</td>\n",
       "      <td>88.13B+</td>\n",
       "      <td>METER EXP.</td>\n",
       "      <td>63.0</td>\n",
       "      <td>6.447674e+06</td>\n",
       "      <td>1.853642e+06</td>\n",
       "    </tr>\n",
       "    <tr>\n",
       "      <th>2139100</th>\n",
       "      <td>1109405636</td>\n",
       "      <td>2015-05-22T00:00:00</td>\n",
       "      <td>908.0</td>\n",
       "      <td>CA</td>\n",
       "      <td>201506.0</td>\n",
       "      <td>VOLK</td>\n",
       "      <td>PA</td>\n",
       "      <td>SI</td>\n",
       "      <td>1715 N COMMONWEALTH</td>\n",
       "      <td>00448</td>\n",
       "      <td>54.0</td>\n",
       "      <td>8069BS</td>\n",
       "      <td>NO PARK/STREET CLEAN</td>\n",
       "      <td>73.0</td>\n",
       "      <td>6.475321e+06</td>\n",
       "      <td>1.859647e+06</td>\n",
       "    </tr>\n",
       "    <tr>\n",
       "      <th>3203228</th>\n",
       "      <td>4270563765</td>\n",
       "      <td>2015-11-17T00:00:00</td>\n",
       "      <td>1222.0</td>\n",
       "      <td>CA</td>\n",
       "      <td>201604.0</td>\n",
       "      <td>GMC</td>\n",
       "      <td>VN</td>\n",
       "      <td>GN</td>\n",
       "      <td>427 SOUTH GRAND VIEW STREET</td>\n",
       "      <td>00456</td>\n",
       "      <td>54.0</td>\n",
       "      <td>80.69BS</td>\n",
       "      <td>NO PARK/STREET CLEAN</td>\n",
       "      <td>73.0</td>\n",
       "      <td>6.478206e+06</td>\n",
       "      <td>1.845287e+06</td>\n",
       "    </tr>\n",
       "    <tr>\n",
       "      <th>6809954</th>\n",
       "      <td>4324753370</td>\n",
       "      <td>2018-01-25T00:00:00</td>\n",
       "      <td>2010.0</td>\n",
       "      <td>AZ</td>\n",
       "      <td>NaN</td>\n",
       "      <td>FRHT</td>\n",
       "      <td>TK</td>\n",
       "      <td>WT</td>\n",
       "      <td>8240 HASKELL AVENUE</td>\n",
       "      <td>00317</td>\n",
       "      <td>53.0</td>\n",
       "      <td>80.69.2</td>\n",
       "      <td>COMM VEH OVER TIME LIMIT</td>\n",
       "      <td>78.0</td>\n",
       "      <td>6.418091e+06</td>\n",
       "      <td>1.902942e+06</td>\n",
       "    </tr>\n",
       "    <tr>\n",
       "      <th>3759566</th>\n",
       "      <td>4291409135</td>\n",
       "      <td>2016-09-15T00:00:00</td>\n",
       "      <td>2124.0</td>\n",
       "      <td>CA</td>\n",
       "      <td>201611.0</td>\n",
       "      <td>FORD</td>\n",
       "      <td>PA</td>\n",
       "      <td>MR</td>\n",
       "      <td>4327 KRAFT AVE</td>\n",
       "      <td>350R1</td>\n",
       "      <td>53.0</td>\n",
       "      <td>22500E</td>\n",
       "      <td>BLOCKING DRIVEWAY</td>\n",
       "      <td>68.0</td>\n",
       "      <td>6.446671e+06</td>\n",
       "      <td>1.876580e+06</td>\n",
       "    </tr>\n",
       "  </tbody>\n",
       "</table>\n",
       "</div>"
      ],
      "text/plain": [
       "        Ticket number           Issue Date  ...      Latitude     Longitude\n",
       "6904451    4325500476  2018-02-03T00:00:00  ...  6.447674e+06  1.853642e+06\n",
       "2139100    1109405636  2015-05-22T00:00:00  ...  6.475321e+06  1.859647e+06\n",
       "3203228    4270563765  2015-11-17T00:00:00  ...  6.478206e+06  1.845287e+06\n",
       "6809954    4324753370  2018-01-25T00:00:00  ...  6.418091e+06  1.902942e+06\n",
       "3759566    4291409135  2016-09-15T00:00:00  ...  6.446671e+06  1.876580e+06\n",
       "\n",
       "[5 rows x 16 columns]"
      ]
     },
     "execution_count": 12,
     "metadata": {
      "tags": []
     },
     "output_type": "execute_result"
    }
   ],
   "source": [
    "df.head()"
   ]
  },
  {
   "cell_type": "code",
   "execution_count": 13,
   "metadata": {
    "id": "4zNTarR_s6ML"
   },
   "outputs": [],
   "source": [
    "# Let's remove all remaining NA values\n",
    "df = df.dropna()"
   ]
  },
  {
   "cell_type": "code",
   "execution_count": 14,
   "metadata": {
    "colab": {
     "base_uri": "https://localhost:8080/",
     "height": 363
    },
    "id": "QlR5ZvkOs8mg",
    "outputId": "0ccaee15-7f92-42a0-b970-bb04542dbd2d"
   },
   "outputs": [
    {
     "data": {
      "text/plain": [
       "<matplotlib.axes._subplots.AxesSubplot at 0x7fe39a411490>"
      ]
     },
     "execution_count": 14,
     "metadata": {
      "tags": []
     },
     "output_type": "execute_result"
    },
    {
     "data": {
      "image/png": "[encoded data removed]",
      "text/plain": [
       "<Figure size 432x288 with 2 Axes>"
      ]
     },
     "metadata": {
      "needs_background": "light",
      "tags": []
     },
     "output_type": "display_data"
    }
   ],
   "source": [
    "# Of our numeric data, correlations are not super exciting. But this is also not very surprising\n",
    "# There might be something to agency and lat/long\n",
    "corr = df.corr()\n",
    "sns.heatmap(corr)"
   ]
  },
  {
   "cell_type": "code",
   "execution_count": 22,
   "metadata": {
    "id": "jUTRIFxStCc-"
   },
   "outputs": [],
   "source": [
    "# Set our output var\n",
    "y = df['Make']\n",
    "\n",
    "# Choose features that require dummies\n",
    "features = ['RP State Plate', 'Body Style', 'Color', 'Agency', 'Fine amount']\n",
    "\n",
    "X = pd.get_dummies(df[features])"
   ]
  },
  {
   "cell_type": "code",
   "execution_count": 23,
   "metadata": {
    "id": "RJvIOIDprYJw"
   },
   "outputs": [],
   "source": [
    "# Split our dataset into training/test set\n",
    "X_train, X_test, y_train, y_test = train_test_split(X, y, test_size=0.33, random_state = 42)"
   ]
  },
  {
   "cell_type": "code",
   "execution_count": 24,
   "metadata": {
    "id": "b810OP24xPDP"
   },
   "outputs": [],
   "source": [
    "# Set up our Random Forest\n",
    "model = RandomForestClassifier(n_estimators=100, max_depth=5, random_state=1)\n",
    "model.fit(X_train, y_train)\n",
    "y_pred = model.predict(X_test)"
   ]
  },
  {
   "cell_type": "code",
   "execution_count": 25,
   "metadata": {
    "colab": {
     "base_uri": "https://localhost:8080/"
    },
    "id": "7T2qjEROxYMx",
    "outputId": "5576a635-5ea7-4ab2-b17f-93e0bdae0c26"
   },
   "outputs": [
    {
     "name": "stdout",
     "output_type": "stream",
     "text": [
      "Accuracy: 0.1908987026954359\n"
     ]
    }
   ],
   "source": [
    "print(\"Accuracy:\",metrics.accuracy_score(y_test, y_pred))"
   ]
  }
 ],
 "metadata": {
  "accelerator": "TPU",
  "colab": {
   "name": "traffic_incidents.ipynb",
   "provenance": []
  },
  "kernelspec": {
   "display_name": "Python 3 (ipykernel)",
   "language": "python",
   "name": "python3"
  },
  "language_info": {
   "codemirror_mode": {
    "name": "ipython",
    "version": 3
   },
   "file_extension": ".py",
   "mimetype": "text/x-python",
   "name": "python",
   "nbconvert_exporter": "python",
   "pygments_lexer": "ipython3",
   "version": "3.7.6"
  }
 },
 "nbformat": 4,
 "nbformat_minor": 1
}
